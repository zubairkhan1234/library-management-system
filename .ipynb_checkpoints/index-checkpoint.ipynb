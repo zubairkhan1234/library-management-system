{
 "cells": [
  {
   "cell_type": "code",
   "execution_count": 1,
   "id": "a3082d41-150d-4d1a-aafa-7f84c6fd0dcf",
   "metadata": {},
   "outputs": [],
   "source": [
    "from src.createuser import UserModule"
   ]
  },
  {
   "cell_type": "code",
   "execution_count": 2,
   "id": "015612c2-394d-4596-b5b2-34e3ef2b7141",
   "metadata": {},
   "outputs": [],
   "source": [
    "allUsers = []\n",
    "user1 = UserModule(allUsers);"
   ]
  },
  {
   "cell_type": "code",
   "execution_count": 3,
   "id": "baf6378e-65e0-4650-b430-033b9c269fde",
   "metadata": {},
   "outputs": [
    {
     "name": "stdin",
     "output_type": "stream",
     "text": [
      "Enter your Name Muhammad Zubair\n",
      "Enter your Email zubair@gmail.com\n",
      "Enter your complete Address House b-82\n",
      "Enter your Country Name pakistan\n",
      "Enter your City Name karachi\n",
      "Enter your cnic Name 42201\n"
     ]
    },
    {
     "data": {
      "text/plain": [
       "{'name': 'Muhammad Zubair',\n",
       " 'email': 'zubair@gmail.com',\n",
       " 'address': 'House b-82',\n",
       " 'country': 'pakistan',\n",
       " 'city': 'karachi',\n",
       " 'cnic': '42201'}"
      ]
     },
     "execution_count": 3,
     "metadata": {},
     "output_type": "execute_result"
    }
   ],
   "source": [
    "user1.create_user()"
   ]
  },
  {
   "cell_type": "code",
   "execution_count": 4,
   "id": "8a62060c-676e-4eb0-a75e-c430b9ff508c",
   "metadata": {},
   "outputs": [
    {
     "data": {
      "text/plain": [
       "[{'name': 'Muhammad Zubair',\n",
       "  'email': 'zubair@gmail.com',\n",
       "  'address': 'House b-82',\n",
       "  'country': 'pakistan',\n",
       "  'city': 'karachi',\n",
       "  'cnic': '42201'}]"
      ]
     },
     "execution_count": 4,
     "metadata": {},
     "output_type": "execute_result"
    }
   ],
   "source": [
    "user1.get_users()"
   ]
  },
  {
   "cell_type": "code",
   "execution_count": 5,
   "id": "c573fd7c-7aa0-45c2-aae3-dbe074924e52",
   "metadata": {},
   "outputs": [
    {
     "data": {
      "text/plain": [
       "[{'name': 'Muhammad Zubair',\n",
       "  'email': 'zubair@gmail.com',\n",
       "  'address': 'House b-82',\n",
       "  'country': 'pakistan',\n",
       "  'city': 'karachi',\n",
       "  'cnic': '42201'}]"
      ]
     },
     "execution_count": 5,
     "metadata": {},
     "output_type": "execute_result"
    }
   ],
   "source": [
    "allUsers"
   ]
  },
  {
   "cell_type": "code",
   "execution_count": 33,
   "id": "4d289c9f-8ceb-4af7-a409-a82563e81f98",
   "metadata": {},
   "outputs": [],
   "source": [
    "all_books = []"
   ]
  },
  {
   "cell_type": "code",
   "execution_count": 60,
   "id": "640a8438-d3cc-4d44-8e32-03080b40cd43",
   "metadata": {},
   "outputs": [],
   "source": [
    "class libraryModule:\n",
    "\n",
    "    def __init__(self, allBooks):\n",
    "\n",
    "        self.books = allBooks\n",
    "\n",
    "    def create_book(self):\n",
    "\n",
    "        title = input('Enter a title')\n",
    "        author = input('Enter a Author name')\n",
    "        number_of_copies = input('Enter a number of copies')\n",
    "        available_copies = number_of_copies\n",
    "        borrow_book_user = []\n",
    "\n",
    "        self.books.append({\n",
    "            'title': title,\n",
    "            'author': author,\n",
    "            'number_of_copies': number_of_copies,\n",
    "            'available_copies': available_copies,\n",
    "            'borrow_book_user': borrow_book_user\n",
    "        })\n",
    "    def get_all_books(self):\n",
    "\n",
    "        return self.books\n",
    "\n",
    "    def search_by_author(self):\n",
    "        author_name = input('type author name to search books')\n",
    "\n",
    "        for book in self.books:\n",
    "            if author_name.lower() in book['author'].lower():\n",
    "                print(book['author'])\n",
    "\n",
    "\n",
    "\n",
    "    def search_by_title(self):\n",
    "        author_name = input('type author name to search books')\n",
    "\n",
    "        for book in self.books:\n",
    "            if author_name.lower() in book['author'].lower():\n",
    "                print(book['author'])"
   ]
  },
  {
   "cell_type": "code",
   "execution_count": 57,
   "id": "ac3b5363-e1ad-4826-95d3-2c4b7a719892",
   "metadata": {},
   "outputs": [],
   "source": [
    "\n",
    "bookmodule = libraryModule(all_books)"
   ]
  },
  {
   "cell_type": "code",
   "execution_count": 43,
   "id": "dad2b941-e86a-4c2e-949a-99530ad913f4",
   "metadata": {},
   "outputs": [
    {
     "name": "stdin",
     "output_type": "stream",
     "text": [
      "Enter a title fjslkafd\n",
      "Enter a Author name faisal\n",
      "Enter a number of copies 10\n"
     ]
    }
   ],
   "source": [
    "bookmodule.create_book()"
   ]
  },
  {
   "cell_type": "code",
   "execution_count": 58,
   "id": "2522c72f-aa1b-4804-9b15-477dac666fec",
   "metadata": {},
   "outputs": [
    {
     "data": {
      "text/plain": [
       "[{'title': 'html',\n",
       "  'author': 'zubair',\n",
       "  'number_of_copies': '10',\n",
       "  'available_copies': '10',\n",
       "  'borrow_book_user': []},\n",
       " {'title': 'css',\n",
       "  'author': 'Zubair',\n",
       "  'number_of_copies': '10',\n",
       "  'available_copies': '10',\n",
       "  'borrow_book_user': []},\n",
       " {'title': 'hfks',\n",
       "  'author': 'salman',\n",
       "  'number_of_copies': '10',\n",
       "  'available_copies': '10',\n",
       "  'borrow_book_user': []},\n",
       " {'title': 'fjslkafd',\n",
       "  'author': 'faisal',\n",
       "  'number_of_copies': '10',\n",
       "  'available_copies': '10',\n",
       "  'borrow_book_user': []}]"
      ]
     },
     "execution_count": 58,
     "metadata": {},
     "output_type": "execute_result"
    }
   ],
   "source": [
    "bookmodule.get_all_books()"
   ]
  },
  {
   "cell_type": "code",
   "execution_count": 59,
   "id": "0a2f7c89-7d24-46eb-bea2-11618dbeec26",
   "metadata": {},
   "outputs": [
    {
     "name": "stdin",
     "output_type": "stream",
     "text": [
      "type author name to search books z\n"
     ]
    },
    {
     "name": "stdout",
     "output_type": "stream",
     "text": [
      "zubair\n",
      "Zubair\n"
     ]
    }
   ],
   "source": [
    "bookmodule.search_by_author()"
   ]
  },
  {
   "cell_type": "code",
   "execution_count": null,
   "id": "e6bf4494-ac38-4a64-9d1a-cc8ab24d6ebe",
   "metadata": {},
   "outputs": [],
   "source": []
  }
 ],
 "metadata": {
  "kernelspec": {
   "display_name": "Python 3 (ipykernel)",
   "language": "python",
   "name": "python3"
  },
  "language_info": {
   "codemirror_mode": {
    "name": "ipython",
    "version": 3
   },
   "file_extension": ".py",
   "mimetype": "text/x-python",
   "name": "python",
   "nbconvert_exporter": "python",
   "pygments_lexer": "ipython3",
   "version": "3.13.3"
  }
 },
 "nbformat": 4,
 "nbformat_minor": 5
}
