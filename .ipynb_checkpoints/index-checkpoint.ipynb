{
 "cells": [
  {
   "cell_type": "code",
   "execution_count": 5,
   "id": "a3082d41-150d-4d1a-aafa-7f84c6fd0dcf",
   "metadata": {},
   "outputs": [],
   "source": [
    "import sys\n",
    "sys.path.append('src')\n",
    "\n",
    "from src.createuser import create_user"
   ]
  },
  {
   "cell_type": "raw",
   "id": "b833516a-803b-48d7-a4b0-8b05556f0537",
   "metadata": {},
   "source": [
    "create_user()"
   ]
  },
  {
   "cell_type": "code",
   "execution_count": null,
   "id": "b6faa152-4932-4811-9e6c-bac79bacba45",
   "metadata": {},
   "outputs": [],
   "source": []
  },
  {
   "cell_type": "code",
   "execution_count": null,
   "id": "5bc4c7ea-9693-4806-9450-9babc4468c67",
   "metadata": {},
   "outputs": [],
   "source": []
  }
 ],
 "metadata": {
  "kernelspec": {
   "display_name": "Python 3 (ipykernel)",
   "language": "python",
   "name": "python3"
  },
  "language_info": {
   "codemirror_mode": {
    "name": "ipython",
    "version": 3
   },
   "file_extension": ".py",
   "mimetype": "text/x-python",
   "name": "python",
   "nbconvert_exporter": "python",
   "pygments_lexer": "ipython3",
   "version": "3.13.3"
  }
 },
 "nbformat": 4,
 "nbformat_minor": 5
}
