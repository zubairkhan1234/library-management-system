{
 "cells": [
  {
   "cell_type": "code",
   "execution_count": null,
   "id": "119db0d7-3899-4637-b62e-e6de9485e57b",
   "metadata": {},
   "outputs": [],
   "source": [
    "from src.createbook import libraryModule"
   ]
  },
  {
   "cell_type": "code",
   "execution_count": null,
   "id": "ac3b5363-e1ad-4826-95d3-2c4b7a719892",
   "metadata": {},
   "outputs": [],
   "source": [
    "bookmodule = libraryModule(all_books)"
   ]
  },
  {
   "cell_type": "code",
   "execution_count": null,
   "id": "a3082d41-150d-4d1a-aafa-7f84c6fd0dcf",
   "metadata": {},
   "outputs": [],
   "source": [
    "from src.createuser import UserModule"
   ]
  },
  {
   "cell_type": "code",
   "execution_count": null,
   "id": "015612c2-394d-4596-b5b2-34e3ef2b7141",
   "metadata": {},
   "outputs": [],
   "source": [
    "allUsers = [{'name': 'ZUBAIR',\n",
    "  'email': 'zubair@gmail.com',\n",
    "  'address': 'asd',\n",
    "  'country': 'asd',\n",
    "  'city': 'asd',\n",
    "  'cnic': 'as',\n",
    "  'password': '123'}]\n",
    "# allUsers = []\n",
    "user1 = UserModule(allUsers);"
   ]
  },
  {
   "cell_type": "code",
   "execution_count": null,
   "id": "baf6378e-65e0-4650-b430-033b9c269fde",
   "metadata": {},
   "outputs": [],
   "source": [
    "# user1.create_user()"
   ]
  },
  {
   "cell_type": "code",
   "execution_count": null,
   "id": "8a62060c-676e-4eb0-a75e-c430b9ff508c",
   "metadata": {},
   "outputs": [],
   "source": [
    "user1.get_users()"
   ]
  },
  {
   "cell_type": "code",
   "execution_count": null,
   "id": "667163f3-8319-4e3c-8fd0-12f0953308e1",
   "metadata": {},
   "outputs": [],
   "source": [
    "# user1.login_user()"
   ]
  },
  {
   "cell_type": "code",
   "execution_count": null,
   "id": "f38c74c8-2722-4ca6-8868-0d3ff45f899e",
   "metadata": {},
   "outputs": [],
   "source": [
    "user1.get_login_user()"
   ]
  },
  {
   "cell_type": "code",
   "execution_count": null,
   "id": "eb3f4d51-5fff-4c43-bdbf-4f2324676ee3",
   "metadata": {},
   "outputs": [],
   "source": [
    "# user1.forgot_password()"
   ]
  },
  {
   "cell_type": "code",
   "execution_count": null,
   "id": "c573fd7c-7aa0-45c2-aae3-dbe074924e52",
   "metadata": {},
   "outputs": [],
   "source": []
  },
  {
   "cell_type": "code",
   "execution_count": null,
   "id": "4d289c9f-8ceb-4af7-a409-a82563e81f98",
   "metadata": {},
   "outputs": [],
   "source": [
    "all_books = [{'title': 'js',\n",
    "  'author': 'zubair',\n",
    "  'number_of_copies': '10',\n",
    "  'available_copies': '10',\n",
    "  'borrow_book_user': []},\n",
    " {'title': 'css',\n",
    "  'author': 'zubair',\n",
    "  'number_of_copies': '10',\n",
    "  'available_copies': '10',\n",
    "  'borrow_book_user': []},\n",
    " {'title': 'html',\n",
    "  'author': 'salman',\n",
    "  'number_of_copies': '0',\n",
    "  'available_copies': '10',\n",
    "  'borrow_book_user': []}]"
   ]
  },
  {
   "cell_type": "code",
   "execution_count": null,
   "id": "dad2b941-e86a-4c2e-949a-99530ad913f4",
   "metadata": {},
   "outputs": [],
   "source": [
    "# bookmodule.create_book()"
   ]
  },
  {
   "cell_type": "code",
   "execution_count": null,
   "id": "2522c72f-aa1b-4804-9b15-477dac666fec",
   "metadata": {},
   "outputs": [],
   "source": [
    "bookmodule.get_all_books()"
   ]
  },
  {
   "cell_type": "code",
   "execution_count": null,
   "id": "0a2f7c89-7d24-46eb-bea2-11618dbeec26",
   "metadata": {},
   "outputs": [],
   "source": [
    "# bookmodule.search_by_author()"
   ]
  },
  {
   "cell_type": "code",
   "execution_count": null,
   "id": "eaba3690-d4d2-4bc3-830d-6084974403c3",
   "metadata": {},
   "outputs": [],
   "source": [
    "# bookmodule.availabe_books()"
   ]
  },
  {
   "cell_type": "code",
   "execution_count": null,
   "id": "0effbf16-a374-4a02-a915-f859bd0a46c1",
   "metadata": {},
   "outputs": [],
   "source": [
    "bookmodule.borrow_a_book()"
   ]
  },
  {
   "cell_type": "code",
   "execution_count": null,
   "id": "c30302ce-2986-48d4-a70a-2371410066e9",
   "metadata": {},
   "outputs": [],
   "source": []
  },
  {
   "cell_type": "code",
   "execution_count": null,
   "id": "d3cc11fe-4a0c-4bf1-a7f3-9be2266505fd",
   "metadata": {},
   "outputs": [],
   "source": []
  },
  {
   "cell_type": "code",
   "execution_count": 29,
   "id": "fe92d669-bfe4-445a-b912-1e6138108be9",
   "metadata": {},
   "outputs": [],
   "source": [
    "import json"
   ]
  },
  {
   "cell_type": "code",
   "execution_count": 36,
   "id": "4a122fd7-e96e-4237-9159-b79e7d9bf464",
   "metadata": {},
   "outputs": [],
   "source": [
    "file = open('src/database/users.json', 'r')"
   ]
  },
  {
   "cell_type": "code",
   "execution_count": 38,
   "id": "c2f8ee55-45b0-4797-859b-9334b0f1712a",
   "metadata": {},
   "outputs": [
    {
     "name": "stdout",
     "output_type": "stream",
     "text": [
      "[\n",
      "  {\n",
      "    \"name\": \"Zubair\",\n",
      "    \"email\": \"zubair@test.com\",\n",
      "    \"password\": \"123\",\n",
      "    \"address\": \"Karachi\",\n",
      "    \"country\": \"Pakistan\",\n",
      "    \"city\": \"Karachi\",\n",
      "    \"cnic\": \"12345-6789012-3\"\n",
      "  }\n",
      "]\n",
      "\n"
     ]
    }
   ],
   "source": [
    "x = file.read()\n",
    "print(x)"
   ]
  },
  {
   "cell_type": "code",
   "execution_count": 39,
   "id": "95922cb4-3742-48d4-aa62-ce1f4cf0ee4b",
   "metadata": {},
   "outputs": [],
   "source": [
    "finaldata = json.loads(x)"
   ]
  },
  {
   "cell_type": "code",
   "execution_count": 42,
   "id": "7e10c793-edaa-4e02-a95b-0cbaa4ac4371",
   "metadata": {},
   "outputs": [
    {
     "name": "stdout",
     "output_type": "stream",
     "text": [
      "{'name': 'Zubair', 'email': 'zubair@test.com', 'password': '123', 'address': 'Karachi', 'country': 'Pakistan', 'city': 'Karachi', 'cnic': '12345-6789012-3'}\n"
     ]
    }
   ],
   "source": [
    "for a in finaldata:\n",
    "    print(a)"
   ]
  },
  {
   "cell_type": "code",
   "execution_count": null,
   "id": "039e36c2-3855-4a92-b21f-ae93073e2888",
   "metadata": {},
   "outputs": [],
   "source": []
  }
 ],
 "metadata": {
  "kernelspec": {
   "display_name": "Python 3 (ipykernel)",
   "language": "python",
   "name": "python3"
  },
  "language_info": {
   "codemirror_mode": {
    "name": "ipython",
    "version": 3
   },
   "file_extension": ".py",
   "mimetype": "text/x-python",
   "name": "python",
   "nbconvert_exporter": "python",
   "pygments_lexer": "ipython3",
   "version": "3.13.3"
  }
 },
 "nbformat": 4,
 "nbformat_minor": 5
}
