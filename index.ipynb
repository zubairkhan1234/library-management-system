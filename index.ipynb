{
 "cells": [
  {
   "cell_type": "code",
   "execution_count": 2,
   "id": "a3082d41-150d-4d1a-aafa-7f84c6fd0dcf",
   "metadata": {},
   "outputs": [],
   "source": [
    "# from src.createuser import create_user"
   ]
  },
  {
   "cell_type": "code",
   "execution_count": null,
   "id": "015612c2-394d-4596-b5b2-34e3ef2b7141",
   "metadata": {},
   "outputs": [],
   "source": [
    "# create_user() "
   ]
  },
  {
   "cell_type": "code",
   "execution_count": 8,
   "id": "b6faa152-4932-4811-9e6c-bac79bacba45",
   "metadata": {},
   "outputs": [],
   "source": [
    "with open('./src/database/user.json', r)\n"
   ]
  },
  {
   "cell_type": "code",
   "execution_count": 53,
   "id": "4e326769-eaa2-471a-9863-c4f72ec7f703",
   "metadata": {},
   "outputs": [],
   "source": [
    "\n",
    "class UserModule:\n",
    "    \n",
    "    def __init__(self, allusers):\n",
    "        self.users = allusers\n",
    "    \n",
    "    def create_user(self):\n",
    "        name = input(\"Enter your Name\")\n",
    "        email = input('Enter your Email')\n",
    "        address = input('Enter your complete Address')\n",
    "        country = input(\"Enter your Country Name\")\n",
    "        city = input('Enter your City Name')\n",
    "        cnic = input(\"Enter your cnic Name\")\n",
    "    \n",
    "        userData = {\"name\": name, \"email\": email, \"address\": address, \"country\": country, \"city\": city, \"cnic\": cnic}\n",
    "        self.users.append(userData)\n",
    "        return userData;\n",
    "\n",
    "    def get_users(self):\n",
    "        return self.users"
   ]
  },
  {
   "cell_type": "code",
   "execution_count": 55,
   "id": "b968230f-1876-4288-a9d2-6304c924795e",
   "metadata": {},
   "outputs": [],
   "source": [
    "allUsers = []\n",
    "user1 = UserModule(allUsers);\n",
    "# print(user1)"
   ]
  },
  {
   "cell_type": "code",
   "execution_count": 56,
   "id": "baf6378e-65e0-4650-b430-033b9c269fde",
   "metadata": {},
   "outputs": [
    {
     "name": "stdin",
     "output_type": "stream",
     "text": [
      "Enter your Name f\n",
      "Enter your Email dsd\n",
      "Enter your complete Address f\n",
      "Enter your Country Name as\n",
      "Enter your City Name fas\n",
      "Enter your cnic Name f\n"
     ]
    },
    {
     "data": {
      "text/plain": [
       "{'name': 'f',\n",
       " 'email': 'dsd',\n",
       " 'address': 'f',\n",
       " 'country': 'as',\n",
       " 'city': 'fas',\n",
       " 'cnic': 'f'}"
      ]
     },
     "execution_count": 56,
     "metadata": {},
     "output_type": "execute_result"
    }
   ],
   "source": [
    "user1.create_user()"
   ]
  },
  {
   "cell_type": "code",
   "execution_count": 57,
   "id": "8a62060c-676e-4eb0-a75e-c430b9ff508c",
   "metadata": {},
   "outputs": [
    {
     "data": {
      "text/plain": [
       "[{'name': 'f',\n",
       "  'email': 'dsd',\n",
       "  'address': 'f',\n",
       "  'country': 'as',\n",
       "  'city': 'fas',\n",
       "  'cnic': 'f'}]"
      ]
     },
     "execution_count": 57,
     "metadata": {},
     "output_type": "execute_result"
    }
   ],
   "source": [
    "user1.get_users()"
   ]
  },
  {
   "cell_type": "code",
   "execution_count": 58,
   "id": "c573fd7c-7aa0-45c2-aae3-dbe074924e52",
   "metadata": {},
   "outputs": [
    {
     "data": {
      "text/plain": [
       "[{'name': 'f',\n",
       "  'email': 'dsd',\n",
       "  'address': 'f',\n",
       "  'country': 'as',\n",
       "  'city': 'fas',\n",
       "  'cnic': 'f'}]"
      ]
     },
     "execution_count": 58,
     "metadata": {},
     "output_type": "execute_result"
    }
   ],
   "source": [
    "allUsers"
   ]
  },
  {
   "cell_type": "code",
   "execution_count": null,
   "id": "640a8438-d3cc-4d44-8e32-03080b40cd43",
   "metadata": {},
   "outputs": [],
   "source": []
  }
 ],
 "metadata": {
  "kernelspec": {
   "display_name": "Python 3 (ipykernel)",
   "language": "python",
   "name": "python3"
  },
  "language_info": {
   "codemirror_mode": {
    "name": "ipython",
    "version": 3
   },
   "file_extension": ".py",
   "mimetype": "text/x-python",
   "name": "python",
   "nbconvert_exporter": "python",
   "pygments_lexer": "ipython3",
   "version": "3.13.3"
  }
 },
 "nbformat": 4,
 "nbformat_minor": 5
}
