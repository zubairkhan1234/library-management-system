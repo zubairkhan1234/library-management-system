{
 "cells": [
  {
   "cell_type": "code",
   "execution_count": 6,
   "id": "a3082d41-150d-4d1a-aafa-7f84c6fd0dcf",
   "metadata": {},
   "outputs": [],
   "source": [
    "from src.createuser import create_user"
   ]
  },
  {
   "cell_type": "code",
   "execution_count": 9,
   "id": "015612c2-394d-4596-b5b2-34e3ef2b7141",
   "metadata": {},
   "outputs": [
    {
     "name": "stdin",
     "output_type": "stream",
     "text": [
      "Enter your Name zubair\n",
      "Enter your Email zubair@gmai.com\n",
      "Enter your complete Address house b 83\n",
      "Enter your Country Name pakistan \n",
      "Enter your City Name karachi \n",
      "Enter your cnic Name 2394032\n"
     ]
    },
    {
     "data": {
      "text/plain": [
       "{'name': 'zubair',\n",
       " 'email': 'zubair@gmai.com',\n",
       " 'address': 'house b 83',\n",
       " 'country': 'pakistan ',\n",
       " 'city': 'karachi ',\n",
       " 'cnic': '2394032'}"
      ]
     },
     "execution_count": 9,
     "metadata": {},
     "output_type": "execute_result"
    }
   ],
   "source": [
    "create_user() "
   ]
  },
  {
   "cell_type": "code",
   "execution_count": 8,
   "id": "b6faa152-4932-4811-9e6c-bac79bacba45",
   "metadata": {},
   "outputs": [],
   "source": []
  },
  {
   "cell_type": "code",
   "execution_count": null,
   "id": "4e326769-eaa2-471a-9863-c4f72ec7f703",
   "metadata": {},
   "outputs": [],
   "source": []
  },
  {
   "cell_type": "code",
   "execution_count": null,
   "id": "b968230f-1876-4288-a9d2-6304c924795e",
   "metadata": {},
   "outputs": [],
   "source": []
  }
 ],
 "metadata": {
  "kernelspec": {
   "display_name": "Python 3 (ipykernel)",
   "language": "python",
   "name": "python3"
  },
  "language_info": {
   "codemirror_mode": {
    "name": "ipython",
    "version": 3
   },
   "file_extension": ".py",
   "mimetype": "text/x-python",
   "name": "python",
   "nbconvert_exporter": "python",
   "pygments_lexer": "ipython3",
   "version": "3.13.3"
  }
 },
 "nbformat": 4,
 "nbformat_minor": 5
}
