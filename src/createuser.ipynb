{
 "cells": [
  {
   "cell_type": "code",
   "execution_count": 6,
   "id": "b16292c8-bda1-4f48-8718-ac25b7d988bb",
   "metadata": {},
   "outputs": [
    {
     "name": "stdin",
     "output_type": "stream",
     "text": [
      "Enter your Name zubair\n",
      "Enter your Email zubair@gmai.com\n",
      "Enter your complete Address dfk jlfa klfjsdl \n",
      "Enter your Country Name asjflskad \n",
      "Enter your City Name fskdal\n",
      "Enter your cnic Name dkfasjl\n"
     ]
    },
    {
     "name": "stdout",
     "output_type": "stream",
     "text": [
      "{'name': 'zubair', 'email': 'zubair@gmai.com', 'address': 'dfk jlfa klfjsdl ', 'country': 'asjflskad ', 'city': 'fskdal', 'cnic': 'dkfasjl'}\n"
     ]
    }
   ],
   "source": [
    "def create_user():\n",
    "    name = input(\"Enter your Name\");\n",
    "    email = input('Enter your Email');\n",
    "    address = input('Enter your complete Address')\n",
    "    country = input(\"Enter your Country Name\")\n",
    "    city = input('Enter your City Name')\n",
    "    cnic = input(\"Enter your cnic Name\")\n",
    "\n",
    "    userData = {\"name\": name, \"email\": email, \"address\": address, \"country\": country, \"city\": city, \"cnic\": cnic}\n",
    "    print(userData)\n",
    " \n",
    "create_user()\n",
    "    "
   ]
  },
  {
   "cell_type": "code",
   "execution_count": null,
   "id": "51953f3b-48a0-46ce-bc60-4c51459e4b6e",
   "metadata": {},
   "outputs": [],
   "source": []
  }
 ],
 "metadata": {
  "kernelspec": {
   "display_name": "Python 3 (ipykernel)",
   "language": "python",
   "name": "python3"
  },
  "language_info": {
   "codemirror_mode": {
    "name": "ipython",
    "version": 3
   },
   "file_extension": ".py",
   "mimetype": "text/x-python",
   "name": "python",
   "nbconvert_exporter": "python",
   "pygments_lexer": "ipython3",
   "version": "3.13.3"
  }
 },
 "nbformat": 4,
 "nbformat_minor": 5
}
