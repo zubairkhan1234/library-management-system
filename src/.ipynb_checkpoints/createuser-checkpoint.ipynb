{
 "cells": [
  {
   "cell_type": "code",
   "execution_count": 1,
   "id": "b16292c8-bda1-4f48-8718-ac25b7d988bb",
   "metadata": {},
   "outputs": [
    {
     "ename": "_IncompleteInputError",
     "evalue": "incomplete input (3452711023.py, line 15)",
     "output_type": "error",
     "traceback": [
      "  \u001b[36mCell\u001b[39m\u001b[36m \u001b[39m\u001b[32mIn[1]\u001b[39m\u001b[32m, line 15\u001b[39m\n\u001b[31m    \u001b[39m\n    ^\n\u001b[31m_IncompleteInputError\u001b[39m\u001b[31m:\u001b[39m incomplete input\n"
     ]
    }
   ],
   "source": [
    "def create_user():\n",
    "    name = input(\"Enter your Name\");\n",
    "    email = input('Enter your Email');\n",
    "    address = input('Enter your complete Address')\n",
    "    country = input(\"Enter your Country Name\")\n",
    "    city = input('Enter your City Name')\n",
    "    cnic = input(\"Enter your cnic Name\")\n",
    "\n",
    "    userData = {\"name\": name, \"email\": email, \"address\": address, \"country\": country, \"city\": city, \"cnic\": cnic}\n",
    "    print(userData)\n",
    " \n",
    "create_user()\n",
    "\n",
    "class User:\n",
    "    def __init__(self, name, email, address, country, city, cnic):\n",
    "        self.name = name\n",
    "        self.email = email\n",
    "        self.address = address\n",
    "        self.city = city\n",
    "        self. cnic = cnic\n",
    "        self.regesterId = regesterId\n",
    "    def def create_user(self):\n",
    "  \n",
    "\n",
    "    userData = {\"name\": name, \"email\": email, \"address\": address, \"country\": country, \"city\": city, \"cnic\": cnic}\n",
    "    print(userData)\n",
    " \n",
    "        \n",
    "    "
   ]
  },
  {
   "cell_type": "code",
   "execution_count": null,
   "id": "51953f3b-48a0-46ce-bc60-4c51459e4b6e",
   "metadata": {},
   "outputs": [],
   "source": []
  }
 ],
 "metadata": {
  "kernelspec": {
   "display_name": "Python 3 (ipykernel)",
   "language": "python",
   "name": "python3"
  },
  "language_info": {
   "codemirror_mode": {
    "name": "ipython",
    "version": 3
   },
   "file_extension": ".py",
   "mimetype": "text/x-python",
   "name": "python",
   "nbconvert_exporter": "python",
   "pygments_lexer": "ipython3",
   "version": "3.13.3"
  }
 },
 "nbformat": 4,
 "nbformat_minor": 5
}
